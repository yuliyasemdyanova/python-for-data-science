{
 "cells": [
  {
   "cell_type": "code",
   "execution_count": 5,
   "metadata": {},
   "outputs": [],
   "source": [
    "# Задание 1\n",
    "# Загрузите модуль pyplot библиотеки matplotlib с псевдонимом plt,\n",
    "# а также библиотеку numpy с псевдонимом np.\n",
    "# Примените магическую функцию %matplotlib inline для\n",
    "# отображения графиков в Jupyter Notebook и\n",
    "# настройки конфигурации ноутбука со значением 'svg' для\n",
    "# более четкого отображения графиков.\n",
    "\n",
    "# Создайте список под названием x с числами 1, 2, 3, 4, 5, 6, 7\n",
    "# и список y с числами 3.5, 3.8, 4.2, 4.5, 5, 5.5, 7.\n",
    "# С помощью функции plot постройте график, соединяющий линиями точки с горизонтальными координатами из списка x\n",
    "# и вертикальными - из списка y.\n",
    "\n",
    "# Затем в следующей ячейке постройте диаграмму рассеяния \n",
    "# (другие названия - диаграмма разброса, scatter plot).\n",
    "import numpy as np\n",
    "import pandas as pd\n",
    "import matplotlib.pyplot as plt\n"
   ]
  },
  {
   "cell_type": "code",
   "execution_count": 2,
   "metadata": {},
   "outputs": [],
   "source": [
    "%matplotlib inline"
   ]
  },
  {
   "cell_type": "code",
   "execution_count": 3,
   "metadata": {},
   "outputs": [],
   "source": [
    "x=[1, 2, 3, 4, 5, 6, 7]\n",
    "y=[3.5, 3.8, 4.2, 4.5, 5, 5.5, 7]"
   ]
  },
  {
   "cell_type": "code",
   "execution_count": 4,
   "metadata": {},
   "outputs": [
    {
     "data": {
      "text/plain": [
       "<function matplotlib.pyplot.show(*args, **kw)>"
      ]
     },
     "execution_count": 4,
     "metadata": {},
     "output_type": "execute_result"
    },
    {
     "data": {
      "image/png": "[encoded data removed]",
      "text/plain": [
       "<Figure size 432x288 with 1 Axes>"
      ]
     },
     "metadata": {
      "needs_background": "light"
     },
     "output_type": "display_data"
    }
   ],
   "source": [
    "plt.plot(x,y)\n",
    "plt.show"
   ]
  },
  {
   "cell_type": "code",
   "execution_count": 5,
   "metadata": {},
   "outputs": [
    {
     "data": {
      "text/plain": [
       "<function matplotlib.pyplot.show(*args, **kw)>"
      ]
     },
     "execution_count": 5,
     "metadata": {},
     "output_type": "execute_result"
    },
    {
     "data": {
      "image/png": "[encoded data removed]",
      "text/plain": [
       "<Figure size 432x288 with 1 Axes>"
      ]
     },
     "metadata": {
      "needs_background": "light"
     },
     "output_type": "display_data"
    }
   ],
   "source": [
    "plt.scatter(x,y)\n",
    "plt.show"
   ]
  },
  {
   "cell_type": "code",
   "execution_count": 7,
   "metadata": {},
   "outputs": [
    {
     "data": {
      "text/plain": [
       "array([ 0. ,  0.2,  0.4,  0.6,  0.8,  1. ,  1.2,  1.4,  1.6,  1.8,  2. ,\n",
       "        2.2,  2.4,  2.6,  2.8,  3. ,  3.2,  3.4,  3.6,  3.8,  4. ,  4.2,\n",
       "        4.4,  4.6,  4.8,  5. ,  5.2,  5.4,  5.6,  5.8,  6. ,  6.2,  6.4,\n",
       "        6.6,  6.8,  7. ,  7.2,  7.4,  7.6,  7.8,  8. ,  8.2,  8.4,  8.6,\n",
       "        8.8,  9. ,  9.2,  9.4,  9.6,  9.8, 10. ])"
      ]
     },
     "execution_count": 7,
     "metadata": {},
     "output_type": "execute_result"
    }
   ],
   "source": [
    "# Задание 2\n",
    "# С помощью функции linspace из библиотеки Numpy создайте массив t из 51 числа от 0 до 10 включительно.\n",
    "\n",
    "# Создайте массив Numpy под названием f, содержащий косинусы элементов массива t.\n",
    "# Постройте линейную диаграмму, используя массив t для координат по горизонтали,\n",
    "# а массив f - для координат по вертикали. Лния графика должна быть зеленого цвета.\n",
    "\n",
    "# Выведите название диаграммы - 'График f(t)'.\n",
    "# Также добавьте названия для горизонтальной оси - 'Значения t'\n",
    "# и для вертикальной - 'Значения f'.\n",
    "# Ограничьте график по оси x значениями 0.5 и 9.5,\n",
    "# а по оси y - значениями -2.5 и 2.5.\n",
    "t=np.linspace(0,10,51)\n",
    "t"
   ]
  },
  {
   "cell_type": "code",
   "execution_count": 12,
   "metadata": {},
   "outputs": [],
   "source": [
    "f=np.cos(t)"
   ]
  },
  {
   "cell_type": "code",
   "execution_count": 26,
   "metadata": {},
   "outputs": [
    {
     "data": {
      "text/plain": [
       "Text(0, 0.5, 'Значения f')"
      ]
     },
     "execution_count": 26,
     "metadata": {},
     "output_type": "execute_result"
    },
    {
     "data": {
      "image/png": "[encoded data removed]",
      "text/plain": [
       "<Figure size 432x288 with 1 Axes>"
      ]
     },
     "metadata": {
      "needs_background": "light"
     },
     "output_type": "display_data"
    }
   ],
   "source": [
    "plt.plot(t,f,color='green')\n",
    "plt.title ('График f(t)')\n",
    "plt.axis([0.5,9.5,-2.5,2.5])\n",
    "plt.xlabel('Значения t')\n",
    "plt.ylabel('Значения f')"
   ]
  },
  {
   "cell_type": "code",
   "execution_count": 28,
   "metadata": {},
   "outputs": [
    {
     "data": {
      "text/plain": [
       "array([-3.  , -2.88, -2.76, -2.64, -2.52, -2.4 , -2.28, -2.16, -2.04,\n",
       "       -1.92, -1.8 , -1.68, -1.56, -1.44, -1.32, -1.2 , -1.08, -0.96,\n",
       "       -0.84, -0.72, -0.6 , -0.48, -0.36, -0.24, -0.12,  0.  ,  0.12,\n",
       "        0.24,  0.36,  0.48,  0.6 ,  0.72,  0.84,  0.96,  1.08,  1.2 ,\n",
       "        1.32,  1.44,  1.56,  1.68,  1.8 ,  1.92,  2.04,  2.16,  2.28,\n",
       "        2.4 ,  2.52,  2.64,  2.76,  2.88,  3.  ])"
      ]
     },
     "execution_count": 28,
     "metadata": {},
     "output_type": "execute_result"
    }
   ],
   "source": [
    "# *Задание 3\n",
    "# С помощью функции linspace библиотеки Numpy создайте массив x\n",
    "# из 51 числа от -3 до 3 включительно.\n",
    "# Создайте массивы y1, y2, y3, y4 по следующим формулам:\n",
    "# y1 = x**2\n",
    "# y2 = 2 * x + 0.5\n",
    "# y3 = -3 * x - 1.5\n",
    "# y4 = sin(x)\n",
    "\n",
    "# Используя функцию subplots модуля matplotlib.pyplot,\n",
    "# создайте объект matplotlib.figure.Figure с названием fig \n",
    "# и массив объектов Axes под названием ax,\n",
    "# причем так, чтобы у вас было 4 отдельных графика в сетке,\n",
    "# состоящей из двух строк и двух столбцов.\n",
    "# В каждом графике массив x используется для координат по горизонтали.\n",
    "\n",
    "# В левом верхнем графике для координат по вертикали используйте y1,\n",
    "# в правом верхнем - y2, в левом нижнем - y3, в правом нижнем - y4.\n",
    "\n",
    "# Дайте название графикам: 'График y1', 'График y2' и т.д.\n",
    "\n",
    "# Для графика в левом верхнем углу установите границы по оси x от -5 до 5.\n",
    "# Установите размеры фигуры 8 дюймов по горизонтали и 6 дюймов по вертикали.\n",
    "# Вертикальные и горизонтальные зазоры между графиками должны составлять 0.3.\n",
    "x=np.linspace(-3,3,51)\n",
    "x"
   ]
  },
  {
   "cell_type": "code",
   "execution_count": 31,
   "metadata": {},
   "outputs": [],
   "source": [
    "y1 = x**2\n",
    "y2 = 2 * x + 0.5\n",
    "y3 = -3 * x - 1.5\n",
    "y4 = np.sin(x)"
   ]
  },
  {
   "cell_type": "code",
   "execution_count": 44,
   "metadata": {},
   "outputs": [
    {
     "data": {
      "image/png": "[encoded data removed]",
      "text/plain": [
       "<Figure size 576x432 with 4 Axes>"
      ]
     },
     "metadata": {
      "needs_background": "light"
     },
     "output_type": "display_data"
    }
   ],
   "source": [
    "fig,ax=plt.subplots(nrows=2,ncols=2)\n",
    "ax1,ax2,ax3,ax4=ax.flatten()\n",
    "\n",
    "ax1.plot(x,y1)\n",
    "ax1.set_title('График y1')\n",
    "ax1.set_xlim([-5,5])\n",
    "\n",
    "ax2.plot(x,y2)\n",
    "ax2.set_title('График y2')\n",
    "\n",
    "ax3.plot(x,y3)\n",
    "ax3.set_title('График y3')\n",
    "\n",
    "ax4.plot(x,y4)\n",
    "ax4.set_title('График y4')\n",
    "\n",
    "fig.set_size_inches(8,6)\n",
    "plt.subplots_adjust(wspace=0.3,hspace=0.3)"
   ]
  },
  {
   "cell_type": "code",
   "execution_count": 41,
   "metadata": {},
   "outputs": [],
   "source": [
    "# * Задание 4\n",
    "# В этом задании мы будем работать с датасетом, в котором приведены данные по мошенничеству с кредитными данными:\n",
    "# Credit Card Fraud Detection (информация об авторах: Andrea Dal Pozzolo, Olivier Caelen, Reid A. Johnson and Gianluca Bontempi. Calibrating Probability with Undersampling for Unbalanced Classification. In Symposium on Computational Intelligence and Data Mining (CIDM), IEEE, 2015). \n",
    "# Ознакомьтесь с описанием и скачайте датасет creditcard.csv с сайта Kaggle.com по ссылке: \n",
    "# Ссылка\n",
    "# Данный датасет является примером несбалансированных данных, так как мошеннические операции с картами встречаются реже обычных.\n",
    "# Импортруйте библиотеку Pandas, а также используйте для графиков стиль “fivethirtyeight”.\n",
    "# Посчитайте с помощью метода value_counts количество наблюдений для каждого значения целевой переменной Class и примените к полученным данным метод plot, чтобы построить столбчатую диаграмму. Затем постройте такую же диаграмму, используя логарифмический масштаб.\n",
    "# На следующем графике постройте две гистограммы по значениям признака V1 - одну для мошеннических транзакций (Class равен 1) и другую - для обычных (Class равен 0). Подберите значение аргумента density так, чтобы по вертикали графика было расположено не число наблюдений, а плотность распределения. Число бинов должно равняться 20 для обеих гистограмм, а коэффициент alpha сделайте равным 0.5, чтобы гистограммы были полупрозрачными и не загораживали друг друга. Создайте легенду с двумя значениями: “Class 0” и “Class 1”. Гистограмма обычных транзакций должна быть серого цвета, а мошеннических - красного. Горизонтальной оси дайте название “Class”."
   ]
  },
  {
   "cell_type": "code",
   "execution_count": 34,
   "metadata": {},
   "outputs": [],
   "source": [
    "data = pd.read_csv('.jupyter/creditcard.csv')\n",
    "\n"
   ]
  },
  {
   "cell_type": "code",
   "execution_count": 35,
   "metadata": {},
   "outputs": [],
   "source": [
    "plt.style.use('fivethirtyeight')"
   ]
  },
  {
   "cell_type": "code",
   "execution_count": 7,
   "metadata": {},
   "outputs": [
    {
     "data": {
      "text/plain": [
       "0    284315\n",
       "1       492\n",
       "Name: Class, dtype: int64"
      ]
     },
     "execution_count": 7,
     "metadata": {},
     "output_type": "execute_result"
    }
   ],
   "source": [
    "observations=data['Class'].value_counts()\n",
    "observations"
   ]
  },
  {
   "cell_type": "code",
   "execution_count": 8,
   "metadata": {},
   "outputs": [
    {
     "data": {
      "image/png": "[encoded data removed]",
      "text/plain": [
       "<Figure size 432x288 with 1 Axes>"
      ]
     },
     "metadata": {
      "needs_background": "light"
     },
     "output_type": "display_data"
    }
   ],
   "source": [
    "observations.plot('bar')\n",
    "plt.show()"
   ]
  },
  {
   "cell_type": "code",
   "execution_count": 45,
   "metadata": {},
   "outputs": [
    {
     "data": {
      "text/plain": [
       "<function matplotlib.pyplot.show(*args, **kw)>"
      ]
     },
     "execution_count": 45,
     "metadata": {},
     "output_type": "execute_result"
    },
    {
     "data": {
      "image/png": "[encoded data removed]",
      "text/plain": [
       "<Figure size 432x288 with 1 Axes>"
      ]
     },
     "metadata": {},
     "output_type": "display_data"
    }
   ],
   "source": [
    "observations.plot('bar')\n",
    "plt.yscale(value='log')\n",
    "plt.show"
   ]
  },
  {
   "cell_type": "code",
   "execution_count": 20,
   "metadata": {},
   "outputs": [
    {
     "data": {
      "text/plain": [
       "0    0.998273\n",
       "1    0.001727\n",
       "Name: Class, dtype: float64"
      ]
     },
     "execution_count": 20,
     "metadata": {},
     "output_type": "execute_result"
    }
   ],
   "source": [
    "observations2=data['Class'].value_counts('V1')\n",
    "observations2\n"
   ]
  },
  {
   "cell_type": "code",
   "execution_count": 58,
   "metadata": {},
   "outputs": [
    {
     "name": "stdout",
     "output_type": "stream",
     "text": [
      "(array([10.03466949,  0.        ,  0.        ,  0.        ,  0.        ,\n",
      "        0.        ,  0.        ,  0.        ,  0.        ,  0.        ,\n",
      "        0.        ,  0.        ,  0.        ,  0.        ,  0.        ,\n",
      "        0.        ,  0.        ,  0.        ,  0.        , 10.03466949]), array([0.00172749, 0.05155474, 0.10138199, 0.15120924, 0.20103649,\n",
      "       0.25086374, 0.30069099, 0.35051825, 0.4003455 , 0.45017275,\n",
      "       0.5       , 0.54982725, 0.5996545 , 0.64948175, 0.69930901,\n",
      "       0.74913626, 0.79896351, 0.84879076, 0.89861801, 0.94844526,\n",
      "       0.99827251]), <a list of 20 Patch objects>)\n"
     ]
    },
    {
     "data": {
      "image/png": "[encoded data removed]",
      "text/plain": [
       "<Figure size 432x288 with 1 Axes>"
      ]
     },
     "metadata": {},
     "output_type": "display_data"
    }
   ],
   "source": [
    "hist_observations2 = plt.hist(observations2, bins=20,density=True,alpha=0.5)\n",
    "plt.xlabel('Class')      \n",
    "print(hist_observations2)\n",
    "plt.show()"
   ]
  },
  {
   "cell_type": "code",
   "execution_count": null,
   "metadata": {},
   "outputs": [],
   "source": []
  }
 ],
 "metadata": {
  "celltoolbar": "Edit Metadata",
  "kernelspec": {
   "display_name": "Python 3",
   "language": "python",
   "name": "python3"
  },
  "language_info": {
   "codemirror_mode": {
    "name": "ipython",
    "version": 3
   },
   "file_extension": ".py",
   "mimetype": "text/x-python",
   "name": "python",
   "nbconvert_exporter": "python",
   "pygments_lexer": "ipython3",
   "version": "3.7.1"
  }
 },
 "nbformat": 4,
 "nbformat_minor": 2
}
